{
 "cells": [
  {
   "cell_type": "markdown",
   "metadata": {},
   "source": [
    "# Link to TestPyPi\n",
    "https://test.pypi.org/project/cipher-pvp2108/"
   ]
  },
  {
   "cell_type": "markdown",
   "metadata": {},
   "source": [
    "# Link to Repo\n",
    "https://github.com/QMSS-G5072-2020/cipher_patel_pooja"
   ]
  },
  {
   "cell_type": "code",
   "execution_count": 1,
   "metadata": {},
   "outputs": [
    {
     "name": "stdout",
     "output_type": "stream",
     "text": [
      "Looking in indexes: https://test.pypi.org/simple/\n",
      "Collecting cipher-pvp2108\n",
      "  Downloading https://test-files.pythonhosted.org/packages/26/e1/0b0fab1cde9b50c78bb20b4094d5572eef7a74c234dce492750d7c5ef3ad/cipher_pvp2108-0.1.0-py3-none-any.whl (2.6 kB)\n",
      "Installing collected packages: cipher-pvp2108\n",
      "Successfully installed cipher-pvp2108-0.1.0\n"
     ]
    }
   ],
   "source": [
    "!pip install -i https://test.pypi.org/simple/ cipher-pvp2108"
   ]
  },
  {
   "cell_type": "code",
   "execution_count": 1,
   "metadata": {},
   "outputs": [],
   "source": [
    "import cipher_pvp2108"
   ]
  },
  {
   "cell_type": "code",
   "execution_count": 2,
   "metadata": {},
   "outputs": [
    {
     "data": {
      "text/plain": [
       "'Ipnfxpsl'"
      ]
     },
     "execution_count": 2,
     "metadata": {},
     "output_type": "execute_result"
    }
   ],
   "source": [
    "cipher_pvp2108.cipher('Homework', 1)"
   ]
  },
  {
   "cell_type": "code",
   "execution_count": 4,
   "metadata": {
    "scrolled": true
   },
   "outputs": [
    {
     "name": "stdout",
     "output_type": "stream",
     "text": [
      "Help on function cipher in module cipher_pvp2108:\n",
      "\n",
      "cipher(text, shift, encrypt=True)\n",
      "    Conducts the traditional caesar cipher on the string text.\n",
      "    \n",
      "    Parameters\n",
      "    ----------\n",
      "    text:\n",
      "        Any python string value\n",
      "    shift:\n",
      "        Any python integer value\n",
      "    encrypt:\n",
      "        Default value is left shift, but setting it to False will create a right shift. \n",
      "    \n",
      "    -------\n",
      "    The new string text after the caesar cipher has been applied to it.\n",
      "    \n",
      "    Examples\n",
      "    --------\n",
      "    >>> from cipher_pvp2108 import cipher\n",
      "    >>> cipher('Pooja', -1)\n",
      "    'OnniZ'\n",
      "    >>> cipher('OnniZ', -1, False)\n",
      "    'Pooja'\n",
      "\n"
     ]
    }
   ],
   "source": [
    "help(cipher_pvp2108.cipher)"
   ]
  },
  {
   "cell_type": "code",
   "execution_count": 6,
   "metadata": {},
   "outputs": [
    {
     "name": "stdout",
     "output_type": "stream",
     "text": [
      "Help on module cipher_pvp2108:\n",
      "\n",
      "NAME\n",
      "    cipher_pvp2108\n",
      "\n",
      "FUNCTIONS\n",
      "    cipher(text, shift, encrypt=True)\n",
      "        Conducts the traditional caesar cipher on the string text.\n",
      "        \n",
      "        Parameters\n",
      "        ----------\n",
      "        text:\n",
      "            Any python string value\n",
      "        shift:\n",
      "            Any python integer value\n",
      "        encrypt:\n",
      "            Default value is left shift, but setting it to False will create a right shift. \n",
      "        \n",
      "        -------\n",
      "        The new string text after the caesar cipher has been applied to it.\n",
      "        \n",
      "        Examples\n",
      "        --------\n",
      "        >>> from cipher_pvp2108 import cipher\n",
      "        >>> cipher('Pooja', -1)\n",
      "        'OnniZ'\n",
      "        >>> cipher('OnniZ', -1, False)\n",
      "        'Pooja'\n",
      "\n",
      "FILE\n",
      "    /Users/Pooja/cipher_pvp2108/cipher_pvp2108/cipher_pvp2108.py\n",
      "\n",
      "\n"
     ]
    }
   ],
   "source": [
    "help(cipher_pvp2108)"
   ]
  }
 ],
 "metadata": {
  "kernelspec": {
   "display_name": "Python 3",
   "language": "python",
   "name": "python3"
  },
  "language_info": {
   "codemirror_mode": {
    "name": "ipython",
    "version": 3
   },
   "file_extension": ".py",
   "mimetype": "text/x-python",
   "name": "python",
   "nbconvert_exporter": "python",
   "pygments_lexer": "ipython3",
   "version": "3.8.3"
  }
 },
 "nbformat": 4,
 "nbformat_minor": 4
}
